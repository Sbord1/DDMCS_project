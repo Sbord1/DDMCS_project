{
 "cells": [
  {
   "cell_type": "markdown",
   "metadata": {},
   "source": [
    "### Research Question:\n",
    "How does the distribution of voting power in DAOs impact the success of proposals and the formation of influence networks?"
   ]
  },
  {
   "cell_type": "markdown",
   "metadata": {},
   "source": [
    "## Top 10 DAOs by Votes\n",
    "\n",
    "1. **Stargate Finance** - 16.6M votes  \n",
    "2. **Arbitrum** - 5.9M votes  \n",
    "3. **Magic Square** - 5.5M votes  \n",
    "4. **Optimism** - 1.9M votes  \n",
    "5. **Aave** - 1.7M votes  \n",
    "6. **Aavegotchi DAO** - 420.1k votes  \n",
    "7. **PancakeSwap** - 311.6k votes  \n",
    "8. **GMX** - 292.5k votes  \n",
    "9. **Uniswap** - 277.7k votes  \n",
    "10. **Metis DAO** - 262.4k votes  \n",
    "\n",
    "Source: https://deepdao.io/organizations\n"
   ]
  },
  {
   "cell_type": "markdown",
   "metadata": {},
   "source": [
    "- We retrieve 100 proposal for each space\n",
    "- We retrieve top 1000 voters (by voting power) for each proposal\n"
   ]
  },
  {
   "cell_type": "markdown",
   "metadata": {},
   "source": [
    "#### Bi-partite Network\n",
    "##### Nodes:\n",
    "- Proposal nodes: Represent governance decisions.\n",
    "- Voter nodes: Represent participants with associated voting power.\n",
    "##### Edges:\n",
    "- Connect voters to proposals, weighted by their voting power."
   ]
  },
  {
   "cell_type": "markdown",
   "metadata": {},
   "source": [
    "##### Project onto voters\n",
    "Projection creates a unipartite network by connecting nodes of the same set (e.g., voters) based on shared connections to the other set (e.g., proposals).\n",
    " By projecting onto voters, we create edges between voters who voted on the same proposals, revealing patterns of shared behavior or preferences.\n",
    " \n",
    " Example: If Voter A and Voter B both voted on Proposal X, they are connected in the projected network."
   ]
  },
  {
   "cell_type": "markdown",
   "metadata": {},
   "source": [
    "#### Bipartite Network:\n",
    "Use it when:\n",
    "- Analyzing voter-to-proposal relationships.\n",
    "- Studying the structure and distribution of participation across proposals.\n",
    "- Exploring the role of proposals in connecting different voters.\n",
    "#### Projected Voter Network:\n",
    "Use it when:\n",
    "- Focusing on voter-to-voter relationships.\n",
    "- Studying collaboration, alignment, or community formation among voters.\n",
    "- Simplifying the graph to analyze the social dynamics of voters."
   ]
  },
  {
   "cell_type": "code",
   "execution_count": 2,
   "metadata": {},
   "outputs": [],
   "source": [
    "import time\n",
    "import requests\n",
    "import networkx as nx\n",
    "\n",
    "# Snapshot API URL\n",
    "SNAPSHOT_API_URL = \"https://hub.snapshot.org/graphql\"\n",
    "\n",
    "# List of top 10 spaces\n",
    "spaces_list = [\n",
    "    'stgdao.eth', 'arbitrumfoundation.eth', 'magicappstore.eth',\n",
    "    'opcollective.eth', 'aave.eth', 'aavegotchi.eth',\n",
    "    'cakevote.eth', 'gmx.eth', 'uniswapgovernance.eth', 'metislayer2.eth'\n",
    "]\n"
   ]
  },
  {
   "cell_type": "code",
   "execution_count": null,
   "metadata": {},
   "outputs": [],
   "source": [
    "\n",
    "# Function to handle rate-limited requests\n",
    "def fetch_with_rate_limiting(query):\n",
    "    while True:\n",
    "        response = requests.post(SNAPSHOT_API_URL, json={\"query\": query})\n",
    "        if response.status_code == 429:  # Too many requests\n",
    "            print(\"Rate limit hit. Waiting 60 seconds...\")\n",
    "            time.sleep(60)  # Wait and retry\n",
    "        elif response.status_code == 200:\n",
    "            return response.json()\n",
    "        else:\n",
    "            print(f\"Unexpected error: {response.status_code}\")\n",
    "            time.sleep(10)  # Retry after short delay\n",
    "\n",
    "# Fetch top proposals for a space\n",
    "def fetch_top_proposals(space_id, batch_size=5):\n",
    "    query = f\"\"\"\n",
    "    query {{\n",
    "      proposals(first: {batch_size}, where: {{ space: \"{space_id}\" }}, orderDirection: desc) {{\n",
    "        id\n",
    "        title\n",
    "        space {{\n",
    "          id\n",
    "          name\n",
    "        }}\n",
    "      }}\n",
    "    }}\n",
    "    \"\"\"\n",
    "    data = fetch_with_rate_limiting(query)\n",
    "    return data['data']['proposals']\n",
    "\n",
    "# Fetch voters for a proposal and sort by voting power\n",
    "def fetch_top_voters(proposal_id, batch_size=1000):\n",
    "    query = f\"\"\"\n",
    "    query {{\n",
    "      votes(\n",
    "        first: {batch_size},\n",
    "        where: {{ proposal: \"{proposal_id}\" }},\n",
    "        orderBy: \"vp\",\n",
    "        orderDirection: desc\n",
    "      ) {{\n",
    "        voter\n",
    "        vp  # Voting power\n",
    "      }}\n",
    "    }}\n",
    "    \"\"\"\n",
    "    data = fetch_with_rate_limiting(query)\n",
    "    votes = data['data']['votes']\n",
    "    # Sort voters by voting power in descending order\n",
    "    votes_sorted = sorted(votes, key=lambda x: x['vp'], reverse=True)\n",
    "    return votes_sorted\n",
    "\n",
    "# Construct a bipartite network\n",
    "def construct_network(spaces):\n",
    "    B = nx.Graph()\n",
    "    for space_id in spaces:\n",
    "        print(f\"Fetching top proposals for space: {space_id}\")\n",
    "        proposals = fetch_top_proposals(space_id, batch_size=100)\n",
    "\n",
    "        for proposal in proposals:\n",
    "            proposal_id = proposal['id']\n",
    "            space_name = proposal['space']['name']\n",
    "\n",
    "            # Add proposal node\n",
    "            B.add_node(proposal_id, type='proposal', title=proposal['title'], space=space_id, space_name=space_name)\n",
    "\n",
    "            print(f\"  Fetching top voters for proposal: {proposal['title']} (ID: {proposal_id})\")\n",
    "            voters = fetch_top_voters(proposal_id, batch_size=1000)\n",
    "\n",
    "            for voter in voters:\n",
    "                voter_id = voter['voter']\n",
    "                vp = voter['vp']  # Voting power\n",
    "\n",
    "                # Add voter node with voting power attribute\n",
    "                B.add_node(voter_id, type='voter', voting_power=vp)\n",
    "\n",
    "                # Add edge between voter and proposal\n",
    "                B.add_edge(voter_id, proposal_id, weight=vp)  # Edge weight as voting power\n",
    "\n",
    "    return B\n",
    "\n",
    "# Main execution\n",
    "print(\"Constructing the network...\")\n",
    "bipartite_network = construct_network(spaces_list)\n",
    "print(f\"Number of nodes: {bipartite_network.number_of_nodes()}\")\n",
    "print(f\"Number of edges: {bipartite_network.number_of_edges()}\")\n",
    "nx.write_gexf(bipartite_network, \"bipartite_network.gexf\")\n",
    "\n"
   ]
  },
  {
   "cell_type": "code",
   "execution_count": null,
   "metadata": {},
   "outputs": [],
   "source": [
    "# Project onto voter network\n",
    "voters = [n for n, d in bipartite_network.nodes(data=True) if d['type'] == 'voter']\n",
    "voter_network = nx.algorithms.bipartite.projected_graph(bipartite_network, voters)\n",
    "print(f\"Projected voter network density: {nx.density(voter_network)}\")\n",
    "\n",
    "# Save or analyze network further\n",
    "nx.write_gexf(voter_network, \"voter_network.gexf\")"
   ]
  }
 ],
 "metadata": {
  "kernelspec": {
   "display_name": "venv",
   "language": "python",
   "name": "python3"
  },
  "language_info": {
   "codemirror_mode": {
    "name": "ipython",
    "version": 3
   },
   "file_extension": ".py",
   "mimetype": "text/x-python",
   "name": "python",
   "nbconvert_exporter": "python",
   "pygments_lexer": "ipython3",
   "version": "3.9.0"
  }
 },
 "nbformat": 4,
 "nbformat_minor": 2
}
